{
 "cells": [
  {
   "cell_type": "markdown",
   "metadata": {},
   "source": [
    "# KNN Assignment"
   ]
  },
  {
   "cell_type": "markdown",
   "metadata": {},
   "source": [
    "We are finally ready to make our first machine learning model.  In this assignment, you are going to code up the KNN model.  You will then use your KNN model on real data to predict whether a pokemon character is Legendary or not."
   ]
  },
  {
   "cell_type": "markdown",
   "metadata": {},
   "source": [
    "In the knn.py code, you will find some unwritten distance functions and a stub for the KNNClassifier class.  You are going to fill in these functions and then load the KNN class into a notebook and use it on real data."
   ]
  },
  {
   "cell_type": "markdown",
   "metadata": {},
   "source": [
    "1. Implement the function `euclidean_distance` which computes the Euclidean distance between two numpy arrays.\n",
    "\n",
    "2. Implement the methods `fit`, `predict` and `__init__` for the `KNNClassifier` class in `src/knn.py`.\n",
    "\n",
    "3.  We are going to write our code similar to how sklearn does. You should be able to run your code like this:\n",
    "\n",
    "    ```python\n",
    "    knn = KNNClassifier(k=3, distance=euclidean_distance)\n",
    "    knn.fit(X, y)\n",
    "    y_pred = knn.predict(X)\n",
    "    ```\n",
    "\n",
    "    Here `X` is the feature matrix as a 2d numpy array, `y` is the values as a 1d numpy array. The 3 is the *k* and `euclidean_distance` is the distance function. `predict` will return a numpy array of the predicted labels.\n"
   ]
  },
  {
   "cell_type": "code",
   "execution_count": null,
   "metadata": {},
   "outputs": [],
   "source": []
  }
 ],
 "metadata": {
  "kernelspec": {
   "display_name": "Python 3",
   "language": "python",
   "name": "python3"
  },
  "language_info": {
   "codemirror_mode": {
    "name": "ipython",
    "version": 3
   },
   "file_extension": ".py",
   "mimetype": "text/x-python",
   "name": "python",
   "nbconvert_exporter": "python",
   "pygments_lexer": "ipython3",
   "version": "3.7.6"
  }
 },
 "nbformat": 4,
 "nbformat_minor": 4
}
